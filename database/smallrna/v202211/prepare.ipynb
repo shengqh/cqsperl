{
 "cells": [
  {
   "cell_type": "code",
   "execution_count": null,
   "metadata": {},
   "outputs": [],
   "source": [
    "from IPython.display import Markdown as md\n",
    "\n",
    "#A function to view the file contents \n",
    "def get_md(filename, language=\"wdl\"):\n",
    "  with open(filename, \"rt\") as f:\n",
    "    code = f.read()\n",
    "    return(f\"```{language}\\n{code}\\n```\")"
   ]
  },
  {
   "cell_type": "code",
   "execution_count": null,
   "metadata": {},
   "outputs": [],
   "source": [
    "pwd"
   ]
  },
  {
   "cell_type": "code",
   "execution_count": null,
   "metadata": {},
   "outputs": [],
   "source": [
    "cd /data/cqs/references/smallrna/v202211"
   ]
  },
  {
   "cell_type": "markdown",
   "metadata": {},
   "source": [
    "## Download tRNA datababse"
   ]
  },
  {
   "cell_type": "code",
   "execution_count": null,
   "metadata": {},
   "outputs": [],
   "source": [
    "%%bash\n",
    "\n",
    "mkdir /data/cqs/references/smallrna/v202211/GtRNAdb.v19\n",
    "cd /data/cqs/references/smallrna/v202211/GtRNAdb.v19\n",
    "\n",
    "if [[ ! -s hg38-tRNAs.fa ]]; then\n",
    "  #wget http://gtrnadb.ucsc.edu/genomes/eukaryota/Hsapi19/hg19-mature-tRNAs.fa\n",
    "  #wget http://gtrnadb.ucsc.edu/genomes/eukaryota/Hsapi19/hg19-tRNAs.fa\n",
    "\n",
    "  wget http://gtrnadb.ucsc.edu/genomes/eukaryota/Hsapi38/hg38-mature-tRNAs.fa\n",
    "  wget http://gtrnadb.ucsc.edu/genomes/eukaryota/Hsapi38/hg38-tRNAs.fa\n",
    "\n",
    "  wget http://gtrnadb.ucsc.edu/genomes/eukaryota/Mmusc10/mm10-mature-tRNAs.fa\n",
    "  wget http://gtrnadb.ucsc.edu/genomes/eukaryota/Mmusc10/mm10-tRNAs.fa\n",
    "\n",
    "  #wget http://gtrnadb.ucsc.edu/genomes/eukaryota/Mmusc39/mm39-mature-tRNAs.fa\n",
    "  #wget http://gtrnadb.ucsc.edu/genomes/eukaryota/Mmusc39/mm39-tRNAs.fa\n",
    "fi\n",
    "\n",
    "python3 /home/shengq2/program/cqsperl/database/smallrna/v202211/prepare_trna.py"
   ]
  },
  {
   "cell_type": "code",
   "execution_count": null,
   "metadata": {},
   "outputs": [],
   "source": [
    "%%bash\n",
    "\n",
    "python3 /home/shengq2/program/cqsperl/database/smallrna/v202211/download_trna.py\n",
    "\n",
    "cd /data/cqs/references/smallrna/v202211/GtRNAdb.v19/\n",
    "\n",
    "buildindex.pl -f GtRNAdb.v19.mature.fa -b"
   ]
  },
  {
   "cell_type": "markdown",
   "metadata": {},
   "source": [
    "## Download SILVA rRNA database"
   ]
  },
  {
   "cell_type": "code",
   "execution_count": null,
   "metadata": {},
   "outputs": [],
   "source": [
    "%%bash\n",
    "\n",
    "mkdir /data/cqs/references/smallrna/v202211/SILVA_138.1/\n",
    "cd /data/cqs/references/smallrna/v202211/SILVA_138.1/\n",
    "\n",
    "if [[ ! -s SILVA_138.1.rmdup.fasta ]]; then\n",
    "  wget https://www.arb-silva.de/fileadmin/silva_databases/current/Exports/SILVA_138.1_LSURef_NR99_tax_silva.fasta.gz\n",
    "  gunzip SILVA_138.1_LSURef_NR99_tax_silva.fasta.gz\n",
    "\n",
    "  wget https://www.arb-silva.de/fileadmin/silva_databases/current/Exports/SILVA_138.1_SSURef_NR99_tax_silva.fasta.gz\n",
    "  gunzip SILVA_138.1_SSURef_NR99_tax_silva.fasta.gz\n",
    "\n",
    "  python3 /home/shengq2/program/cqsperl/database/smallrna/v202211/process_silva.py\n",
    "\n",
    "  if [[ -s SILVA_138.1.rmdup.fasta ]]; then\n",
    "    rm SILVA_138.1_LSURef_NR99_tax_silva.fasta SILVA_138.1_SSURef_NR99_tax_silva.fasta\n",
    "  fi\n",
    "fi\n",
    "\n",
    "buildindex.pl -f SILVA_138.1.rmdup.fasta -b\n"
   ]
  },
  {
   "cell_type": "markdown",
   "metadata": {},
   "source": [
    "## Download miRBase"
   ]
  },
  {
   "cell_type": "code",
   "execution_count": null,
   "metadata": {},
   "outputs": [],
   "source": [
    "%%bash\n",
    "\n",
    "mkdir -p /data/cqs/references/smallrna/v202211/miRBase.v22.1\n",
    "cd /data/cqs/references/smallrna/v202211/miRBase.v22.1\n",
    "\n",
    "if [[ ! -s mature.dna.fa ]]; then\n",
    "  wget https://www.mirbase.org/ftp/CURRENT/mature.fa.gz\n",
    "  gunzip mature.fa.gz\n",
    "\n",
    "  python3 /home/shengq2/program/cqsperl/database/smallrna/v202211/prepare_mirna.py\n",
    "\n",
    "  wget https://www.mirbase.org/ftp/CURRENT/genomes/hsa.gff3\n",
    "  wget https://www.mirbase.org/ftp/CURRENT/genomes/mmu.gff3\n",
    "  wget https://www.mirbase.org/ftp/CURRENT/genomes/rno.gff3\n",
    "fi\n",
    "\n",
    "buildindex.pl -f mature.dna.fa -b"
   ]
  },
  {
   "cell_type": "markdown",
   "metadata": {},
   "source": [
    "## Download HERV database"
   ]
  },
  {
   "cell_type": "code",
   "execution_count": null,
   "metadata": {},
   "outputs": [],
   "source": [
    "%%bash\n",
    "\n",
    "mkdir -p /data/cqs/references/smallrna/v202211/HERVd.20221123\n",
    "cd /data/cqs/references/smallrna/v202211/HERVd.20221123\n",
    "\n",
    "wget https://herv.img.cas.cz/f/package-entities-erv.bed.gz\n",
    "zcat package-entities-erv.bed.gz > HERVd.erv.bed\n",
    "rm package-entities-erv.bed.gz"
   ]
  },
  {
   "cell_type": "markdown",
   "metadata": {},
   "source": [
    "## Download hg38 genome"
   ]
  },
  {
   "cell_type": "code",
   "execution_count": null,
   "metadata": {},
   "outputs": [],
   "source": [
    "%%bash\n",
    "cd /data/cqs/references/gencode/GRCh38.p13\n",
    "if [[ ! -s gencode.v42.annotation.gtf ]]; then\n",
    "  wget ftp://ftp.ebi.ac.uk/pub/databases/gencode/Gencode_human/release_42/gencode.v42.annotation.gtf.gz\n",
    "  gunzip gencode.v42.annotation.gtf.gz\n",
    "fi\n",
    "\n",
    "if [[ ! -s GRCh38.primary_assembly.genome.fa ]]; then\n",
    "  wget ftp://ftp.ebi.ac.uk/pub/databases/gencode/Gencode_human/release_42/GRCh38.primary_assembly.genome.fa.gz\n",
    "  gunzip GRCh38.primary_assembly.genome.fa.gz\n",
    "fi\n"
   ]
  },
  {
   "cell_type": "markdown",
   "metadata": {},
   "source": [
    "## Download mm10 genome"
   ]
  },
  {
   "cell_type": "code",
   "execution_count": null,
   "metadata": {},
   "outputs": [],
   "source": [
    "%%bash\n",
    "cd /data/cqs/references/gencode/GRCm38.p6\n",
    "if [[ ! -s gencode.vM25.annotation.gtf ]]; then\n",
    "  wget ftp://ftp.ebi.ac.uk/pub/databases/gencode/Gencode_mouse/release_M25/gencode.vM25.annotation.gtf.gz\n",
    "  gunzip gencode.vM25.annotation.gtf.gz\n",
    "fi\n",
    "\n",
    "if [[ ! -s GRCm38.primary_assembly.genome.fa ]]; then\n",
    "  wget ftp://ftp.ebi.ac.uk/pub/databases/gencode/Gencode_mouse/release_M24/GRCm38.primary_assembly.genome.fa.gz\n",
    "  gunzip GRCm38.primary_assembly.genome.fa.gz\n",
    "fi"
   ]
  },
  {
   "cell_type": "markdown",
   "metadata": {},
   "source": [
    "## Build hg38 database"
   ]
  },
  {
   "cell_type": "code",
   "execution_count": null,
   "metadata": {},
   "outputs": [],
   "source": [
    "%%bash\n",
    "\n",
    "mkdir -p /data/cqs/references/smallrna/v202211/hg38\n",
    "cd /data/cqs/references/smallrna/v202211/hg38\n",
    "\n",
    "cqstools smallrna_database -f /home/shengq2/program/cqsperl/database/smallrna/v202211/hg38_miRBase22_GtRNAdb19_gencode42.bed.param\n",
    "\n",
    "buildindex.pl -f hg38_miRBase22_GtRNAdb19_gencode42.fasta -b\n"
   ]
  }
 ],
 "metadata": {
  "kernelspec": {
   "display_name": "Python 3.10.4",
   "language": "python",
   "name": "python3"
  },
  "language_info": {
   "codemirror_mode": {
    "name": "ipython",
    "version": 3
   },
   "file_extension": ".py",
   "mimetype": "text/x-python",
   "name": "python",
   "nbconvert_exporter": "python",
   "pygments_lexer": "ipython3",
   "version": "3.10.4"
  },
  "orig_nbformat": 4,
  "vscode": {
   "interpreter": {
    "hash": "f456f3eb05c73ce5e637900a8078ae936a462822f21d45a1b1c996283f110744"
   }
  }
 },
 "nbformat": 4,
 "nbformat_minor": 2
}
