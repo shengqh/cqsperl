{
 "cells": [
  {
   "cell_type": "code",
   "execution_count": 32,
   "metadata": {},
   "outputs": [],
   "source": [
    "import sys\n",
    "import os\n",
    "import logging\n",
    "import argparse\n",
    "import time\n",
    "import xml.etree.ElementTree as ET\n",
    "\n",
    "xml_file=\"/nobackup/vickers_lab/projects/20221122_9074_ES_ARMseq_human_byMars/intermediate_data/bowtie1_genome_1mm_NTA_smallRNA_count/result/CAC_10_007DE/CAC_10_007DE.count.mapped.xml\"\n",
    "sample_name=\"CAC_10_007DE\"\n",
    "trna_read_file=\"/nobackup/vickers_lab/projects/20221122_9074_ES_ARMseq_human_byMars_tRNA_pos/CAC_10_007DE.tRNA.txt\"\n",
    "\n",
    "def accept_func(feature_name:str):\n",
    "  return(feature_name.startswith(\"tRNA:\"))\n",
    "\n",
    "assert(not accept_func(\"miRNA:hsa-let-7a-5p\"))\n",
    "assert(accept_func(\"tRNA:hsa-let-7a-5p\"))\n"
   ]
  },
  {
   "cell_type": "markdown",
   "metadata": {},
   "source": [
    "# Get query sequence"
   ]
  },
  {
   "cell_type": "code",
   "execution_count": 33,
   "metadata": {},
   "outputs": [
    {
     "name": "stderr",
     "output_type": "stream",
     "text": [
      "2024-04-15 14:05:23,507 - tRNA_position - INFO     - Reading /nobackup/vickers_lab/projects/20221122_9074_ES_ARMseq_human_byMars/intermediate_data/bowtie1_genome_1mm_NTA_smallRNA_count/result/CAC_10_007DE/CAC_10_007DE.count.mapped.xml ...\n"
     ]
    }
   ],
   "source": [
    "logger = logging.getLogger('tRNA_position')\n",
    "logging.basicConfig(level=logging.INFO, format='%(asctime)s - %(name)s - %(levelname)-8s - %(message)s')\n",
    "logger.info(f\"Reading {xml_file} ...\")\n",
    "\n",
    "tree = ET.parse(xml_file)\n",
    "root = tree.getroot()"
   ]
  },
  {
   "cell_type": "code",
   "execution_count": 2,
   "metadata": {},
   "outputs": [
    {
     "ename": "NameError",
     "evalue": "name 'root' is not defined",
     "output_type": "error",
     "traceback": [
      "\u001b[0;31m---------------------------------------------------------------------------\u001b[0m",
      "\u001b[0;31mNameError\u001b[0m                                 Traceback (most recent call last)",
      "Cell \u001b[0;32mIn[2], line 3\u001b[0m\n\u001b[1;32m      1\u001b[0m query_seq_map \u001b[38;5;241m=\u001b[39m {}\n\u001b[0;32m----> 3\u001b[0m queries_node \u001b[38;5;241m=\u001b[39m \u001b[43mroot\u001b[49m\u001b[38;5;241m.\u001b[39mfind(\u001b[38;5;124m'\u001b[39m\u001b[38;5;124mqueries\u001b[39m\u001b[38;5;124m'\u001b[39m)\n\u001b[1;32m      4\u001b[0m \u001b[38;5;28;01mfor\u001b[39;00m query_node \u001b[38;5;129;01min\u001b[39;00m queries_node\u001b[38;5;241m.\u001b[39mfindall(\u001b[38;5;124m'\u001b[39m\u001b[38;5;124mquery\u001b[39m\u001b[38;5;124m'\u001b[39m):\n\u001b[1;32m      5\u001b[0m   query_name \u001b[38;5;241m=\u001b[39m query_node\u001b[38;5;241m.\u001b[39mget(\u001b[38;5;124m\"\u001b[39m\u001b[38;5;124mname\u001b[39m\u001b[38;5;124m\"\u001b[39m)\u001b[38;5;241m.\u001b[39mrstrip()\n",
      "\u001b[0;31mNameError\u001b[0m: name 'root' is not defined"
     ]
    }
   ],
   "source": [
    "query_seq_map = {}\n",
    "\n",
    "queries_node = root.find('queries')\n",
    "for query_node in queries_node.findall('query'):\n",
    "  query_name = query_node.get(\"name\").rstrip()\n",
    "  if \"sequence\" in query_node.attrib:\n",
    "    query_sequence=query_node.get(\"sequence\")\n",
    "  else:\n",
    "    query_sequence=query_node.get(\"seq\")\n",
    "  query_seq_map[query_name] = query_sequence\n",
    "\n",
    "print(query_seq_map)"
   ]
  },
  {
   "cell_type": "code",
   "execution_count": 36,
   "metadata": {},
   "outputs": [
    {
     "name": "stdout",
     "output_type": "stream",
     "text": [
      "{'sequence': 'GACGAGGTGGCCGAGTGGTtAAGGCGATGGACTGCTAATCCATTGTGCTTTGCACGCGTGGGTTCGAATCCCATCCTCGTCG', 'queries': {'A00252:306:HLH3MDSX5:1:1177:22101:33066:CLIP_CCA': {'sample': 'CAC_10_007DE', 'offset': '66', 'query_count': '101', 'sequence': 'AATCCCATCCTCGTCG'}, 'A00252:306:HLH3MDSX5:1:1127:16532:17691:CLIP_': {'sample': 'CAC_10_007DE', 'offset': '0', 'query_count': '30', 'sequence': 'GACGACGTGGCCGAGTGG'}, 'A00252:306:HLH3MDSX5:1:2152:12274:31266:CLIP_': {'sample': 'CAC_10_007DE', 'offset': '0', 'query_count': '6', 'sequence': 'GACGACGTGGCCGAGTGGTTAAG'}, 'A00252:306:HLH3MDSX5:1:1118:16025:12336:CLIP_': {'sample': 'CAC_10_007DE', 'offset': '0', 'query_count': '3', 'sequence': 'GACGACGTGGCCGAGTGGTTAAGGC'}, 'A00252:306:HLH3MDSX5:2:2262:12608:1470:CLIP_CCA': {'sample': 'CAC_10_007DE', 'offset': '66', 'query_count': '2', 'sequence': 'AAACCCATCCTCGTCG'}, 'A00252:306:HLH3MDSX5:1:1121:2519:34914:CLIP_CCA': {'sample': 'CAC_10_007DE', 'offset': '66', 'query_count': '1', 'sequence': 'AATCACATCCTCGTCG'}, 'A00252:306:HLH3MDSX5:4:2478:16034:8563:CLIP_CCA': {'sample': 'CAC_10_007DE', 'offset': '66', 'query_count': '1', 'sequence': 'AATCCCAACCTCGTCG'}}}\n"
     ]
    }
   ],
   "source": [
    "result_node = root.find('subjectResult')\n",
    "feature_map = {}\n",
    "\n",
    "for feature_group_node in result_node.findall('subjectGroup'):\n",
    "  feature_nodes = feature_group_node.findall('subject')\n",
    "  for feature_node in feature_nodes:\n",
    "    feature_name = feature_node.get(\"name\")\n",
    "    if not accept_func(feature_name):\n",
    "      continue\n",
    "    \n",
    "    region_nodes = feature_node.findall('region')\n",
    "    for region_node in region_nodes:\n",
    "      seqname = region_node.get(\"seqname\")\n",
    "      if not seqname.startswith('Homo_sapiens_'):\n",
    "        continue\n",
    "\n",
    "      sequence = region_node.get(\"sequence\")\n",
    "      cur_queries = {}\n",
    "\n",
    "      query_nodes = region_node.findall('query')\n",
    "      for query_node in query_nodes:\n",
    "        qname = query_node.get('qname')\n",
    "        qseq = query_seq_map[qname]\n",
    "        cur_queries[qname] = {\n",
    "          \"sample\": sample_name,\n",
    "          \"offset\": query_node.get('offset'),\n",
    "          \"query_count\": query_node.get('query_count'),\n",
    "          \"sequence\": qseq\n",
    "        }\n",
    "\n",
    "      feature_map[feature_name] = {\n",
    "        \"sequence\": sequence,\n",
    "        \"queries\": cur_queries \n",
    "      }\n",
    "\n",
    "print(feature_map['tRNA:tRNA-Ser-GCT-3-1'])"
   ]
  },
  {
   "cell_type": "code",
   "execution_count": 46,
   "metadata": {},
   "outputs": [],
   "source": [
    "with open(trna_read_file, \"wt\") as fout:\n",
    "  fout.write(\"category\\tfname\\tsequence\\tmap_offset\\tsample\\tquery_count\\tquery_length\\n\")\n",
    "  for fname in sorted(feature_map.keys()):\n",
    "    fmap = feature_map[fname]\n",
    "    fout.write(f\"parent\\t{fname}\\t{fmap['sequence']}\\t0\\t\\t0\\t{len(fmap['sequence'])}\\n\")\n",
    "    for qname in fmap['queries'].keys():\n",
    "      qmap = fmap['queries'][qname]\n",
    "      fout.write(f\"read\\t{fname}\\t{qmap['sequence']}\\t{qmap['offset']}\\t{qmap['sample']}\\t{qmap['query_count']}\\t{len(qmap['sequence'])}\\n\")"
   ]
  }
 ],
 "metadata": {
  "kernelspec": {
   "display_name": "conda_py3_10",
   "language": "python",
   "name": "python3"
  },
  "language_info": {
   "codemirror_mode": {
    "name": "ipython",
    "version": 3
   },
   "file_extension": ".py",
   "mimetype": "text/x-python",
   "name": "python",
   "nbconvert_exporter": "python",
   "pygments_lexer": "ipython3",
   "version": "3.10.13"
  }
 },
 "nbformat": 4,
 "nbformat_minor": 2
}
