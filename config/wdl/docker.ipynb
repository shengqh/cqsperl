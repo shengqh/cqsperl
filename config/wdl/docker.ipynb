{
 "cells": [
  {
   "cell_type": "code",
   "execution_count": 6,
   "metadata": {},
   "outputs": [
    {
     "name": "stdout",
     "output_type": "stream",
     "text": [
      "docker=us.gcr.io/broad-gotc-prod/genomes-in-the-cloud:2.4.7-1603303710\n",
      "docker_subbed=\n"
     ]
    }
   ],
   "source": [
    "!docker=\"us.gcr.io/broad-gotc-prod/genomes-in-the-cloud:2.4.7-1603303710\"\n",
    "!echo \"docker=\"$docker\n",
    "!docker_subbed=$(sed -e 's/[^A-Za-z0-9._-]/./g' <<< ${docker})\n",
    "!echo \"docker_subbed=\"$docker_subbed\n"
   ]
  }
 ],
 "metadata": {
  "kernelspec": {
   "display_name": "Python 3.10.4 64-bit ('conda_py3_10')",
   "language": "python",
   "name": "python3"
  },
  "language_info": {
   "codemirror_mode": {
    "name": "ipython",
    "version": 3
   },
   "file_extension": ".py",
   "mimetype": "text/x-python",
   "name": "python",
   "nbconvert_exporter": "python",
   "pygments_lexer": "ipython3",
   "version": "3.10.4"
  },
  "orig_nbformat": 4,
  "vscode": {
   "interpreter": {
    "hash": "f456f3eb05c73ce5e637900a8078ae936a462822f21d45a1b1c996283f110744"
   }
  }
 },
 "nbformat": 4,
 "nbformat_minor": 2
}
